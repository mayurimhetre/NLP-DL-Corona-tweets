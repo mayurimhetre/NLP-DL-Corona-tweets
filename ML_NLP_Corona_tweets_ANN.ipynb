{
  "nbformat": 4,
  "nbformat_minor": 0,
  "metadata": {
    "colab": {
      "name": "ML-NLP-Corona-tweets_ANN.ipynb",
      "provenance": [],
      "collapsed_sections": []
    },
    "kernelspec": {
      "name": "python3",
      "display_name": "Python 3"
    },
    "language_info": {
      "name": "python"
    },
    "accelerator": "GPU"
  },
  "cells": [
    {
      "cell_type": "code",
      "metadata": {
        "colab": {
          "base_uri": "https://localhost:8080/"
        },
        "id": "IsTWfgFXixRR",
        "outputId": "af82bb20-13bf-4a2b-d223-860d6db79f15"
      },
      "source": [
        "from google.colab import drive\n",
        "drive.mount('/content/drive')"
      ],
      "execution_count": 1,
      "outputs": [
        {
          "output_type": "stream",
          "text": [
            "Mounted at /content/drive\n"
          ],
          "name": "stdout"
        }
      ]
    },
    {
      "cell_type": "code",
      "metadata": {
        "id": "zpi3hie0i3cT"
      },
      "source": [
        "import pandas as pd\n",
        "\n",
        "\n",
        "df = pd.read_csv('/content/drive/MyDrive/Python_google_colab/archive (2)/archive_NLP/Corona_NLP_test.csv')"
      ],
      "execution_count": 2,
      "outputs": []
    },
    {
      "cell_type": "code",
      "metadata": {
        "id": "0tEEmUfmjWjG"
      },
      "source": [
        "df_train = pd.read_csv('/content/drive/MyDrive/Python_google_colab/archive (2)/archive_NLP/Corona_NLP_train.csv',encoding = \"ISO-8859-1\")"
      ],
      "execution_count": 3,
      "outputs": []
    },
    {
      "cell_type": "code",
      "metadata": {
        "colab": {
          "base_uri": "https://localhost:8080/",
          "height": 204
        },
        "id": "bbrA_vebjyNe",
        "outputId": "e27362ab-de86-4c82-dfa9-a43643ba04d4"
      },
      "source": [
        "df_train.head()"
      ],
      "execution_count": 4,
      "outputs": [
        {
          "output_type": "execute_result",
          "data": {
            "text/html": [
              "<div>\n",
              "<style scoped>\n",
              "    .dataframe tbody tr th:only-of-type {\n",
              "        vertical-align: middle;\n",
              "    }\n",
              "\n",
              "    .dataframe tbody tr th {\n",
              "        vertical-align: top;\n",
              "    }\n",
              "\n",
              "    .dataframe thead th {\n",
              "        text-align: right;\n",
              "    }\n",
              "</style>\n",
              "<table border=\"1\" class=\"dataframe\">\n",
              "  <thead>\n",
              "    <tr style=\"text-align: right;\">\n",
              "      <th></th>\n",
              "      <th>UserName</th>\n",
              "      <th>ScreenName</th>\n",
              "      <th>Location</th>\n",
              "      <th>TweetAt</th>\n",
              "      <th>OriginalTweet</th>\n",
              "      <th>Sentiment</th>\n",
              "    </tr>\n",
              "  </thead>\n",
              "  <tbody>\n",
              "    <tr>\n",
              "      <th>0</th>\n",
              "      <td>3799</td>\n",
              "      <td>48751</td>\n",
              "      <td>London</td>\n",
              "      <td>16-03-2020</td>\n",
              "      <td>@MeNyrbie @Phil_Gahan @Chrisitv https://t.co/i...</td>\n",
              "      <td>Neutral</td>\n",
              "    </tr>\n",
              "    <tr>\n",
              "      <th>1</th>\n",
              "      <td>3800</td>\n",
              "      <td>48752</td>\n",
              "      <td>UK</td>\n",
              "      <td>16-03-2020</td>\n",
              "      <td>advice Talk to your neighbours family to excha...</td>\n",
              "      <td>Positive</td>\n",
              "    </tr>\n",
              "    <tr>\n",
              "      <th>2</th>\n",
              "      <td>3801</td>\n",
              "      <td>48753</td>\n",
              "      <td>Vagabonds</td>\n",
              "      <td>16-03-2020</td>\n",
              "      <td>Coronavirus Australia: Woolworths to give elde...</td>\n",
              "      <td>Positive</td>\n",
              "    </tr>\n",
              "    <tr>\n",
              "      <th>3</th>\n",
              "      <td>3802</td>\n",
              "      <td>48754</td>\n",
              "      <td>NaN</td>\n",
              "      <td>16-03-2020</td>\n",
              "      <td>My food stock is not the only one which is emp...</td>\n",
              "      <td>Positive</td>\n",
              "    </tr>\n",
              "    <tr>\n",
              "      <th>4</th>\n",
              "      <td>3803</td>\n",
              "      <td>48755</td>\n",
              "      <td>NaN</td>\n",
              "      <td>16-03-2020</td>\n",
              "      <td>Me, ready to go at supermarket during the #COV...</td>\n",
              "      <td>Extremely Negative</td>\n",
              "    </tr>\n",
              "  </tbody>\n",
              "</table>\n",
              "</div>"
            ],
            "text/plain": [
              "   UserName  ...           Sentiment\n",
              "0      3799  ...             Neutral\n",
              "1      3800  ...            Positive\n",
              "2      3801  ...            Positive\n",
              "3      3802  ...            Positive\n",
              "4      3803  ...  Extremely Negative\n",
              "\n",
              "[5 rows x 6 columns]"
            ]
          },
          "metadata": {
            "tags": []
          },
          "execution_count": 4
        }
      ]
    },
    {
      "cell_type": "code",
      "metadata": {
        "colab": {
          "base_uri": "https://localhost:8080/",
          "height": 371
        },
        "id": "ipiXEa_2ktqN",
        "outputId": "156b1e2c-3e2e-4eeb-8667-54eea3dd06a2"
      },
      "source": [
        "import matplotlib.pyplot as plt\n",
        "\n",
        "df_train['Sentiment'].value_counts().plot.bar()"
      ],
      "execution_count": 5,
      "outputs": [
        {
          "output_type": "execute_result",
          "data": {
            "text/plain": [
              "<matplotlib.axes._subplots.AxesSubplot at 0x7f0d6704b8d0>"
            ]
          },
          "metadata": {
            "tags": []
          },
          "execution_count": 5
        },
        {
          "output_type": "display_data",
          "data": {
            "image/png": "[encoded data removed]",
            "text/plain": [
              "<Figure size 432x288 with 1 Axes>"
            ]
          },
          "metadata": {
            "tags": [],
            "needs_background": "light"
          }
        }
      ]
    },
    {
      "cell_type": "code",
      "metadata": {
        "colab": {
          "base_uri": "https://localhost:8080/"
        },
        "id": "iZ2NPG6Mk2gH",
        "outputId": "8714d37e-0119-4f7d-9253-4b26adae02b0"
      },
      "source": [
        "df_train['Sentiment'].value_counts()"
      ],
      "execution_count": null,
      "outputs": [
        {
          "output_type": "execute_result",
          "data": {
            "text/plain": [
              "Positive              11422\n",
              "Negative               9917\n",
              "Neutral                7713\n",
              "Extremely Positive     6624\n",
              "Extremely Negative     5481\n",
              "Name: Sentiment, dtype: int64"
            ]
          },
          "metadata": {
            "tags": []
          },
          "execution_count": 38
        }
      ]
    },
    {
      "cell_type": "code",
      "metadata": {
        "colab": {
          "base_uri": "https://localhost:8080/",
          "height": 52
        },
        "id": "tglY0PXuk44H",
        "outputId": "6b5556b9-a51d-4d04-e17d-b6e6c1611b63"
      },
      "source": [
        "df_train['OriginalTweet'][1]"
      ],
      "execution_count": null,
      "outputs": [
        {
          "output_type": "execute_result",
          "data": {
            "application/vnd.google.colaboratory.intrinsic+json": {
              "type": "string"
            },
            "text/plain": [
              "'advice Talk to your neighbours family to exchange phone numbers create contact list with phone numbers of neighbours schools employer chemist GP set up online shopping accounts if poss adequate supplies of regular meds but not over order'"
            ]
          },
          "metadata": {
            "tags": []
          },
          "execution_count": 17
        }
      ]
    },
    {
      "cell_type": "code",
      "metadata": {
        "colab": {
          "base_uri": "https://localhost:8080/",
          "height": 69
        },
        "id": "bAFZSqwbk9l3",
        "outputId": "12f603c5-3c94-4cbf-9dc8-ddfae2307f02"
      },
      "source": [
        "df_train['OriginalTweet'][4]"
      ],
      "execution_count": null,
      "outputs": [
        {
          "output_type": "execute_result",
          "data": {
            "application/vnd.google.colaboratory.intrinsic+json": {
              "type": "string"
            },
            "text/plain": [
              "\"Me, ready to go at supermarket during the #COVID19 outbreak.\\r\\r\\n\\r\\r\\nNot because I'm paranoid, but because my food stock is litteraly empty. The #coronavirus is a serious thing, but please, don't panic. It causes shortage...\\r\\r\\n\\r\\r\\n#CoronavirusFrance #restezchezvous #StayAtHome #confinement https://t.co/usmuaLq72n\""
            ]
          },
          "metadata": {
            "tags": []
          },
          "execution_count": 18
        }
      ]
    },
    {
      "cell_type": "code",
      "metadata": {
        "colab": {
          "base_uri": "https://localhost:8080/"
        },
        "id": "aFDGOCOzlTEU",
        "outputId": "f89825eb-88e4-49b2-c3e8-7847072cc6ae"
      },
      "source": [
        "df_train['Location'].value_counts()"
      ],
      "execution_count": null,
      "outputs": [
        {
          "output_type": "execute_result",
          "data": {
            "text/plain": [
              "London                     540\n",
              "United States              528\n",
              "London, England            520\n",
              "New York, NY               395\n",
              "Washington, DC             373\n",
              "                          ... \n",
              "JAPAN                        1\n",
              "Private jet                  1\n",
              "South Pasadena, CA           1\n",
              "Where My Daughter Is..       1\n",
              "Siksika Territory            1\n",
              "Name: Location, Length: 12220, dtype: int64"
            ]
          },
          "metadata": {
            "tags": []
          },
          "execution_count": 27
        }
      ]
    },
    {
      "cell_type": "code",
      "metadata": {
        "colab": {
          "base_uri": "https://localhost:8080/",
          "height": 656
        },
        "id": "rWQdW2HQlbfd",
        "outputId": "255bbcc1-20d0-4bb5-afc8-8082a4a99eba"
      },
      "source": [
        "plt.figure(figsize= (12,10))\n",
        "df_train['TweetAt'].value_counts().sort_index(ascending=False).plot.bar()"
      ],
      "execution_count": null,
      "outputs": [
        {
          "output_type": "execute_result",
          "data": {
            "text/plain": [
              "<matplotlib.axes._subplots.AxesSubplot at 0x7f49a5ed8410>"
            ]
          },
          "metadata": {
            "tags": []
          },
          "execution_count": 34
        },
        {
          "output_type": "display_data",
          "data": {
            "image/png": "[encoded data removed]",
            "text/plain": [
              "<Figure size 864x720 with 1 Axes>"
            ]
          },
          "metadata": {
            "tags": [],
            "needs_background": "light"
          }
        }
      ]
    },
    {
      "cell_type": "code",
      "metadata": {
        "colab": {
          "base_uri": "https://localhost:8080/"
        },
        "id": "3MAgHeK6lj6P",
        "outputId": "be991a41-3857-4aad-85f8-ac433af9138a"
      },
      "source": [
        "df_train.isnull().sum()"
      ],
      "execution_count": null,
      "outputs": [
        {
          "output_type": "execute_result",
          "data": {
            "text/plain": [
              "UserName            0\n",
              "ScreenName          0\n",
              "Location         8590\n",
              "TweetAt             0\n",
              "OriginalTweet       0\n",
              "Sentiment           0\n",
              "dtype: int64"
            ]
          },
          "metadata": {
            "tags": []
          },
          "execution_count": 31
        }
      ]
    },
    {
      "cell_type": "code",
      "metadata": {
        "id": "2svTPoeEl061"
      },
      "source": [
        "###############NOTE: location is having null values ,we can drop location ,uname ,sname, tweetat"
      ],
      "execution_count": null,
      "outputs": []
    },
    {
      "cell_type": "code",
      "metadata": {
        "id": "avfnHxCJmClf"
      },
      "source": [
        "from sklearn.preprocessing import LabelEncoder\n",
        "lr = LabelEncoder()"
      ],
      "execution_count": null,
      "outputs": []
    },
    {
      "cell_type": "code",
      "metadata": {
        "id": "2GwhWyOjnGz0"
      },
      "source": [
        "b = lr.fit_transform(df_train['Sentiment'])"
      ],
      "execution_count": null,
      "outputs": []
    },
    {
      "cell_type": "code",
      "metadata": {
        "colab": {
          "base_uri": "https://localhost:8080/"
        },
        "id": "_9WYXjgxnT96",
        "outputId": "a8e1f76d-ebb2-46bf-c302-5e3f3f3a907a"
      },
      "source": [
        "df_train['Sentiment'].value_counts()"
      ],
      "execution_count": null,
      "outputs": [
        {
          "output_type": "execute_result",
          "data": {
            "text/plain": [
              "Positive              11422\n",
              "Negative               9917\n",
              "Neutral                7713\n",
              "Extremely Positive     6624\n",
              "Extremely Negative     5481\n",
              "Name: Sentiment, dtype: int64"
            ]
          },
          "metadata": {
            "tags": []
          },
          "execution_count": 11
        }
      ]
    },
    {
      "cell_type": "code",
      "metadata": {
        "colab": {
          "base_uri": "https://localhost:8080/"
        },
        "id": "1PYu-CnUnX2c",
        "outputId": "d99707fb-44d2-48af-8e98-f799894e8b58"
      },
      "source": [
        "type(b)"
      ],
      "execution_count": null,
      "outputs": [
        {
          "output_type": "execute_result",
          "data": {
            "text/plain": [
              "numpy.ndarray"
            ]
          },
          "metadata": {
            "tags": []
          },
          "execution_count": 12
        }
      ]
    },
    {
      "cell_type": "code",
      "metadata": {
        "id": "qldE6zz8niNb"
      },
      "source": [
        "df_train['target'] = pd.DataFrame(b)"
      ],
      "execution_count": null,
      "outputs": []
    },
    {
      "cell_type": "code",
      "metadata": {
        "colab": {
          "base_uri": "https://localhost:8080/",
          "height": 204
        },
        "id": "bbRHSJbnng15",
        "outputId": "052a73b9-e873-4b2a-ea50-8bcb03e3a8c6"
      },
      "source": [
        "df_train.head()"
      ],
      "execution_count": null,
      "outputs": [
        {
          "output_type": "execute_result",
          "data": {
            "text/html": [
              "<div>\n",
              "<style scoped>\n",
              "    .dataframe tbody tr th:only-of-type {\n",
              "        vertical-align: middle;\n",
              "    }\n",
              "\n",
              "    .dataframe tbody tr th {\n",
              "        vertical-align: top;\n",
              "    }\n",
              "\n",
              "    .dataframe thead th {\n",
              "        text-align: right;\n",
              "    }\n",
              "</style>\n",
              "<table border=\"1\" class=\"dataframe\">\n",
              "  <thead>\n",
              "    <tr style=\"text-align: right;\">\n",
              "      <th></th>\n",
              "      <th>UserName</th>\n",
              "      <th>ScreenName</th>\n",
              "      <th>Location</th>\n",
              "      <th>TweetAt</th>\n",
              "      <th>OriginalTweet</th>\n",
              "      <th>Sentiment</th>\n",
              "      <th>target</th>\n",
              "    </tr>\n",
              "  </thead>\n",
              "  <tbody>\n",
              "    <tr>\n",
              "      <th>0</th>\n",
              "      <td>3799</td>\n",
              "      <td>48751</td>\n",
              "      <td>London</td>\n",
              "      <td>16-03-2020</td>\n",
              "      <td>@MeNyrbie @Phil_Gahan @Chrisitv https://t.co/i...</td>\n",
              "      <td>Neutral</td>\n",
              "      <td>3</td>\n",
              "    </tr>\n",
              "    <tr>\n",
              "      <th>1</th>\n",
              "      <td>3800</td>\n",
              "      <td>48752</td>\n",
              "      <td>UK</td>\n",
              "      <td>16-03-2020</td>\n",
              "      <td>advice Talk to your neighbours family to excha...</td>\n",
              "      <td>Positive</td>\n",
              "      <td>4</td>\n",
              "    </tr>\n",
              "    <tr>\n",
              "      <th>2</th>\n",
              "      <td>3801</td>\n",
              "      <td>48753</td>\n",
              "      <td>Vagabonds</td>\n",
              "      <td>16-03-2020</td>\n",
              "      <td>Coronavirus Australia: Woolworths to give elde...</td>\n",
              "      <td>Positive</td>\n",
              "      <td>4</td>\n",
              "    </tr>\n",
              "    <tr>\n",
              "      <th>3</th>\n",
              "      <td>3802</td>\n",
              "      <td>48754</td>\n",
              "      <td>NaN</td>\n",
              "      <td>16-03-2020</td>\n",
              "      <td>My food stock is not the only one which is emp...</td>\n",
              "      <td>Positive</td>\n",
              "      <td>4</td>\n",
              "    </tr>\n",
              "    <tr>\n",
              "      <th>4</th>\n",
              "      <td>3803</td>\n",
              "      <td>48755</td>\n",
              "      <td>NaN</td>\n",
              "      <td>16-03-2020</td>\n",
              "      <td>Me, ready to go at supermarket during the #COV...</td>\n",
              "      <td>Extremely Negative</td>\n",
              "      <td>0</td>\n",
              "    </tr>\n",
              "  </tbody>\n",
              "</table>\n",
              "</div>"
            ],
            "text/plain": [
              "   UserName  ScreenName  ...           Sentiment target\n",
              "0      3799       48751  ...             Neutral      3\n",
              "1      3800       48752  ...            Positive      4\n",
              "2      3801       48753  ...            Positive      4\n",
              "3      3802       48754  ...            Positive      4\n",
              "4      3803       48755  ...  Extremely Negative      0\n",
              "\n",
              "[5 rows x 7 columns]"
            ]
          },
          "metadata": {
            "tags": []
          },
          "execution_count": 14
        }
      ]
    },
    {
      "cell_type": "code",
      "metadata": {
        "colab": {
          "base_uri": "https://localhost:8080/"
        },
        "id": "cSTBeUKynvlW",
        "outputId": "a855c11c-11f8-4ea6-f144-e3a22eba195f"
      },
      "source": [
        "df_train['target'].value_counts()"
      ],
      "execution_count": null,
      "outputs": [
        {
          "output_type": "execute_result",
          "data": {
            "text/plain": [
              "4    11422\n",
              "2     9917\n",
              "3     7713\n",
              "1     6624\n",
              "0     5481\n",
              "Name: target, dtype: int64"
            ]
          },
          "metadata": {
            "tags": []
          },
          "execution_count": 15
        }
      ]
    },
    {
      "cell_type": "code",
      "metadata": {
        "colab": {
          "base_uri": "https://localhost:8080/"
        },
        "id": "iG11Xx7wnzMM",
        "outputId": "ce93829e-0d04-4e5c-af0f-4cf593985149"
      },
      "source": [
        "import nltk\n",
        "from nltk.corpus import stopwords\n",
        "from nltk.stem.porter import PorterStemmer\n",
        "nltk.download('stopwords')\n",
        "  \n",
        "import re\n",
        "ps = PorterStemmer()\n",
        "corpus = []\n",
        "for i in range(0, len(df_train)):\n",
        "    review = re.sub('[^a-zA-Z]', ' ', df_train['OriginalTweet'][i])\n",
        "    review = review.lower()\n",
        "    review = review.split()\n",
        "    \n",
        "    review = [ps.stem(word) for word in review if not word in stopwords.words('english')]\n",
        "    review = ' '.join(review)\n",
        "    corpus.append(review)"
      ],
      "execution_count": null,
      "outputs": [
        {
          "output_type": "stream",
          "text": [
            "[nltk_data] Downloading package stopwords to /root/nltk_data...\n",
            "[nltk_data]   Package stopwords is already up-to-date!\n"
          ],
          "name": "stdout"
        }
      ]
    },
    {
      "cell_type": "code",
      "metadata": {
        "colab": {
          "base_uri": "https://localhost:8080/"
        },
        "id": "FdOE-yPcpyVw",
        "outputId": "cedb8087-2e15-4c11-c478-720390b92078"
      },
      "source": [
        "df_train.shape\n"
      ],
      "execution_count": null,
      "outputs": [
        {
          "output_type": "execute_result",
          "data": {
            "text/plain": [
              "(41157, 6)"
            ]
          },
          "metadata": {
            "tags": []
          },
          "execution_count": 52
        }
      ]
    },
    {
      "cell_type": "code",
      "metadata": {
        "colab": {
          "base_uri": "https://localhost:8080/"
        },
        "id": "Y2UybBCPp1Ar",
        "outputId": "280ccb69-0fa9-4381-c233-b4660f147ea2"
      },
      "source": [
        "corpus[0:10]"
      ],
      "execution_count": null,
      "outputs": [
        {
          "output_type": "execute_result",
          "data": {
            "text/plain": [
              "['menyrbi phil gahan chrisitv http co ifz fan pa http co xx ghgfzcc http co nlzdxno',\n",
              " 'advic talk neighbour famili exchang phone number creat contact list phone number neighbour school employ chemist gp set onlin shop account poss adequ suppli regular med order',\n",
              " 'coronaviru australia woolworth give elderli disabl dedic shop hour amid covid outbreak http co binca vp p',\n",
              " 'food stock one empti pleas panic enough food everyon take need stay calm stay safe covid franc covid covid coronaviru confin confinementot confinementgener http co zrlg z j',\n",
              " 'readi go supermarket covid outbreak paranoid food stock litterali empti coronaviru seriou thing pleas panic caus shortag coronavirusfr restezchezv stayathom confin http co usmualq n',\n",
              " 'news region first confirm covid case came sullivan counti last week peopl flock area store purchas clean suppli hand sanit food toilet paper good tim dodson report http co cfxch lu',\n",
              " 'cashier groceri store share insight covid prove credibl comment civic class know talk http co iefdnehgdo',\n",
              " 'supermarket today buy toilet paper rebel toiletpapercrisi covid http co evxkqlidaz',\n",
              " 'due covid retail store classroom atlanta open walk busi class next two week begin monday march continu process onlin phone order normal thank understand http co kw zj',\n",
              " 'corona prevent stop buy thing cash use onlin payment method corona spread note also prefer onlin shop home time fight covid govindia indiafightscorona']"
            ]
          },
          "metadata": {
            "tags": []
          },
          "execution_count": 53
        }
      ]
    },
    {
      "cell_type": "code",
      "metadata": {
        "id": "iODe-1j5sewT"
      },
      "source": [
        "\n",
        "from sklearn.feature_extraction.text import CountVectorizer\n",
        "cv = CountVectorizer(max_features= 2000,ngram_range=(1,4))\n",
        "X = cv.fit_transform(corpus).toarray()"
      ],
      "execution_count": null,
      "outputs": []
    },
    {
      "cell_type": "code",
      "metadata": {
        "colab": {
          "base_uri": "https://localhost:8080/"
        },
        "id": "mCj0xz2LsiPh",
        "outputId": "7ffd2e6f-cbac-4671-a62d-f711f001e141"
      },
      "source": [
        "X.shape"
      ],
      "execution_count": null,
      "outputs": [
        {
          "output_type": "execute_result",
          "data": {
            "text/plain": [
              "(41157, 2000)"
            ]
          },
          "metadata": {
            "tags": []
          },
          "execution_count": 24
        }
      ]
    },
    {
      "cell_type": "code",
      "metadata": {
        "colab": {
          "base_uri": "https://localhost:8080/"
        },
        "id": "1FCZhIC-szju",
        "outputId": "f24c456c-b09a-49da-ad54-311931713cd7"
      },
      "source": [
        "X[0]"
      ],
      "execution_count": null,
      "outputs": [
        {
          "output_type": "execute_result",
          "data": {
            "text/plain": [
              "array([0, 0, 0, ..., 0, 0, 0])"
            ]
          },
          "metadata": {
            "tags": []
          },
          "execution_count": 26
        }
      ]
    },
    {
      "cell_type": "code",
      "metadata": {
        "colab": {
          "base_uri": "https://localhost:8080/"
        },
        "id": "tYWDZL9Qs2ut",
        "outputId": "a43501d3-6463-48cd-c638-086a8a016fbe"
      },
      "source": [
        "y = df_train['target']\n",
        "from sklearn.model_selection import train_test_split\n",
        "X_train, X_test, y_train, y_test = train_test_split(X, y, test_size=0.3, random_state=42)\n",
        "\n",
        "\n",
        "from sklearn.naive_bayes import MultinomialNB\n",
        "mb = MultinomialNB(alpha=0.5)\n",
        "mb.fit(X_train, y_train)\n",
        "\n",
        "y_pred=mb.predict(X_test)\n",
        "\n",
        "\n",
        "from sklearn.metrics import confusion_matrix\n",
        "print(confusion_matrix(y_pred,y_test))\n",
        "\n",
        "print(\"TRAIN DATA accuracy:\", mb.score(X_train,y_train))\n",
        "\n",
        "print(\"TEST data accuracy: \", mb.score(X_test,y_test))"
      ],
      "execution_count": null,
      "outputs": [
        {
          "output_type": "stream",
          "text": [
            "[[ 853   47  633   95  195]\n",
            " [  49 1102  203  101  748]\n",
            " [ 443  126 1094  341  585]\n",
            " [ 103  159  551 1385  700]\n",
            " [ 124  555  524  370 1262]]\n",
            "TRAIN DATA accuracy: 0.526293866500052\n",
            "TEST data accuracy:  0.46128927761580824\n"
          ],
          "name": "stdout"
        }
      ]
    },
    {
      "cell_type": "code",
      "metadata": {
        "colab": {
          "base_uri": "https://localhost:8080/"
        },
        "id": "n2xkr1TStBro",
        "outputId": "2d13182b-d319-48f8-80f2-a355207d6468"
      },
      "source": [
        "from sklearn.feature_extraction.text import TfidfVectorizer\n",
        "tf = TfidfVectorizer(ngram_range= (1,5),max_features= 4000)\n",
        "x_new = tf.fit_transform(corpus).toarray()\n",
        "\n",
        "X_final = pd.DataFrame(x_new, columns= tf.get_feature_names())\n",
        "\n",
        "from sklearn.model_selection import train_test_split\n",
        "X_train, X_test, y_train, y_test = train_test_split(X_final, y, test_size=0.3, random_state=42)\n",
        "\n",
        "from sklearn.naive_bayes import MultinomialNB\n",
        "mb = MultinomialNB(alpha= 0.7)\n",
        "mb.fit(X_train, y_train)\n",
        "\n",
        "y_pred_tfid = mb.predict(X_test)\n",
        "\n",
        "\n",
        "from sklearn.metrics import confusion_matrix\n",
        "print(confusion_matrix(y_pred_tfid,y_test))\n",
        "\n",
        "print(\"TRAIN DATA accuracy:\", mb.score(X_train,y_train))\n",
        "\n",
        "print(\"TEST data accuracy: \", mb.score(X_test,y_test))"
      ],
      "execution_count": null,
      "outputs": [
        {
          "output_type": "stream",
          "text": [
            "[[ 325    3  143   11   27]\n",
            " [   4  523   46   21  188]\n",
            " [ 921  124 1473  407  597]\n",
            " [  58   74  278  999  334]\n",
            " [ 264 1265 1065  854 2344]]\n",
            "TRAIN DATA accuracy: 0.5403519733416641\n",
            "TEST data accuracy:  0.4586977648202138\n"
          ],
          "name": "stdout"
        }
      ]
    },
    {
      "cell_type": "code",
      "metadata": {
        "colab": {
          "base_uri": "https://localhost:8080/"
        },
        "id": "4QOvvWt-tQtb",
        "outputId": "88e6210f-c8d9-478b-eb6a-72fb043a3f74"
      },
      "source": [
        "type(X)"
      ],
      "execution_count": null,
      "outputs": [
        {
          "output_type": "execute_result",
          "data": {
            "text/plain": [
              "numpy.ndarray"
            ]
          },
          "metadata": {
            "tags": []
          },
          "execution_count": 32
        }
      ]
    },
    {
      "cell_type": "code",
      "metadata": {
        "id": "aY0SkIVxuCE4"
      },
      "source": [
        "df_new = pd.concat([df_train['OriginalTweet'],df_train['Sentiment']],axis=1)"
      ],
      "execution_count": null,
      "outputs": []
    },
    {
      "cell_type": "code",
      "metadata": {
        "colab": {
          "base_uri": "https://localhost:8080/",
          "height": 204
        },
        "id": "XUFucVbzydA0",
        "outputId": "b3fc96f3-0a3e-468a-e958-978da157e9e3"
      },
      "source": [
        "df_new.head()"
      ],
      "execution_count": null,
      "outputs": [
        {
          "output_type": "execute_result",
          "data": {
            "text/html": [
              "<div>\n",
              "<style scoped>\n",
              "    .dataframe tbody tr th:only-of-type {\n",
              "        vertical-align: middle;\n",
              "    }\n",
              "\n",
              "    .dataframe tbody tr th {\n",
              "        vertical-align: top;\n",
              "    }\n",
              "\n",
              "    .dataframe thead th {\n",
              "        text-align: right;\n",
              "    }\n",
              "</style>\n",
              "<table border=\"1\" class=\"dataframe\">\n",
              "  <thead>\n",
              "    <tr style=\"text-align: right;\">\n",
              "      <th></th>\n",
              "      <th>OriginalTweet</th>\n",
              "      <th>Sentiment</th>\n",
              "    </tr>\n",
              "  </thead>\n",
              "  <tbody>\n",
              "    <tr>\n",
              "      <th>0</th>\n",
              "      <td>@MeNyrbie @Phil_Gahan @Chrisitv https://t.co/i...</td>\n",
              "      <td>Neutral</td>\n",
              "    </tr>\n",
              "    <tr>\n",
              "      <th>1</th>\n",
              "      <td>advice Talk to your neighbours family to excha...</td>\n",
              "      <td>Positive</td>\n",
              "    </tr>\n",
              "    <tr>\n",
              "      <th>2</th>\n",
              "      <td>Coronavirus Australia: Woolworths to give elde...</td>\n",
              "      <td>Positive</td>\n",
              "    </tr>\n",
              "    <tr>\n",
              "      <th>3</th>\n",
              "      <td>My food stock is not the only one which is emp...</td>\n",
              "      <td>Positive</td>\n",
              "    </tr>\n",
              "    <tr>\n",
              "      <th>4</th>\n",
              "      <td>Me, ready to go at supermarket during the #COV...</td>\n",
              "      <td>Extremely Negative</td>\n",
              "    </tr>\n",
              "  </tbody>\n",
              "</table>\n",
              "</div>"
            ],
            "text/plain": [
              "                                       OriginalTweet           Sentiment\n",
              "0  @MeNyrbie @Phil_Gahan @Chrisitv https://t.co/i...             Neutral\n",
              "1  advice Talk to your neighbours family to excha...            Positive\n",
              "2  Coronavirus Australia: Woolworths to give elde...            Positive\n",
              "3  My food stock is not the only one which is emp...            Positive\n",
              "4  Me, ready to go at supermarket during the #COV...  Extremely Negative"
            ]
          },
          "metadata": {
            "tags": []
          },
          "execution_count": 63
        }
      ]
    },
    {
      "cell_type": "code",
      "metadata": {
        "id": "sYPIJcESuIO6"
      },
      "source": [
        "df_new.replace({'Sentiment' : { 'Extremely Negative' :'N', 'Negative' : 'N', 'Neutral' : 'K' ,'Extremely Positive' : 'P', 'Positive' : 'P'}} ,inplace=True )\n"
      ],
      "execution_count": null,
      "outputs": []
    },
    {
      "cell_type": "code",
      "metadata": {
        "colab": {
          "base_uri": "https://localhost:8080/",
          "height": 280
        },
        "id": "F7hJjW9kuLxt",
        "outputId": "4f17acb5-c422-4a6a-c05a-4d6dd5d204e8"
      },
      "source": [
        "df_new['Sentiment'].value_counts().plot.bar()"
      ],
      "execution_count": null,
      "outputs": [
        {
          "output_type": "execute_result",
          "data": {
            "text/plain": [
              "<matplotlib.axes._subplots.AxesSubplot at 0x7f6377b3ef50>"
            ]
          },
          "metadata": {
            "tags": []
          },
          "execution_count": 73
        },
        {
          "output_type": "display_data",
          "data": {
            "image/png": "[encoded data removed]",
            "text/plain": [
              "<Figure size 432x288 with 1 Axes>"
            ]
          },
          "metadata": {
            "tags": [],
            "needs_background": "light"
          }
        }
      ]
    },
    {
      "cell_type": "code",
      "metadata": {
        "id": "AfNqqtUgveLg"
      },
      "source": [
        "from sklearn.feature_extraction.text import CountVectorizer\n",
        "cv = CountVectorizer(max_features= 2000,ngram_range=(1,4))\n",
        "X = cv.fit_transform(corpus).toarray()\n",
        "\n",
        "\n",
        "y = df_new['Sentiment']\n",
        "from sklearn.model_selection import train_test_split\n",
        "X_train, X_test, y_train, y_test = train_test_split(X, y, test_size=0.3, random_state=42)\n",
        "\n",
        "\n"
      ],
      "execution_count": null,
      "outputs": []
    },
    {
      "cell_type": "code",
      "metadata": {
        "colab": {
          "base_uri": "https://localhost:8080/"
        },
        "id": "5--IzW8fvkgg",
        "outputId": "4d005b10-7ebd-4d7f-d672-7868fc235f09"
      },
      "source": [
        "from sklearn.naive_bayes import MultinomialNB\n",
        "mb = MultinomialNB()\n",
        "mb.fit(X_train, y_train)\n",
        "\n",
        "y_pred=mb.predict(X_test)\n",
        "\n",
        "\n",
        "from sklearn.metrics import confusion_matrix\n",
        "print(confusion_matrix(y_pred,y_test))\n",
        "\n",
        "print(\"TRAIN DATA accuracy:\", mb.score(X_train,y_train))\n",
        "\n",
        "print(\"TEST data accuracy: \", mb.score(X_test,y_test))"
      ],
      "execution_count": null,
      "outputs": [
        {
          "output_type": "stream",
          "text": [
            "[[1349  660  840]\n",
            " [ 442 3066  919]\n",
            " [ 501  851 3720]]\n",
            "TRAIN DATA accuracy: 0.6822520740046514\n",
            "TEST data accuracy:  0.658811143505021\n"
          ],
          "name": "stdout"
        }
      ]
    },
    {
      "cell_type": "code",
      "metadata": {
        "colab": {
          "base_uri": "https://localhost:8080/"
        },
        "id": "IpgcCUUtvqz2",
        "outputId": "31636f3e-4466-4201-bac5-025c1f4c9e29"
      },
      "source": [
        "from sklearn.feature_extraction.text import TfidfVectorizer\n",
        "tf = TfidfVectorizer(ngram_range= (1,4),max_features= 2800)\n",
        "x_new = tf.fit_transform(corpus).toarray()\n",
        "\n",
        "X_final = pd.DataFrame(x_new, columns= tf.get_feature_names())\n",
        "\n",
        "from sklearn.model_selection import train_test_split\n",
        "X_train, X_test, y_train, y_test = train_test_split(X_final, y, test_size=0.3, random_state=42)\n",
        "\n",
        "from sklearn.naive_bayes import MultinomialNB\n",
        "mb = MultinomialNB()\n",
        "mb.fit(X_train, y_train)\n",
        "\n",
        "y_pred_tfid = mb.predict(X_test)\n",
        "\n",
        "\n",
        "from sklearn.metrics import confusion_matrix\n",
        "print(confusion_matrix(y_pred_tfid,y_test))\n",
        "\n",
        "print(\"TRAIN DATA accuracy:\", mb.score(X_train,y_train))\n",
        "\n",
        "print(\"TEST data accuracy: \", mb.score(X_test,y_test))"
      ],
      "execution_count": null,
      "outputs": [
        {
          "output_type": "stream",
          "text": [
            "[[ 692  162  184]\n",
            " [ 557 3180  800]\n",
            " [1043 1235 4495]]\n",
            "TRAIN DATA accuracy: 0.7026970738310945\n",
            "TEST data accuracy:  0.6775996112730807\n"
          ],
          "name": "stdout"
        }
      ]
    },
    {
      "cell_type": "code",
      "metadata": {
        "colab": {
          "base_uri": "https://localhost:8080/"
        },
        "id": "gvI4S9OQ0D0f",
        "outputId": "f9b84a5c-9ae7-4ee6-a787-9db4dafc06f1"
      },
      "source": [
        "alpha = [ 0.1,0.2,0.3,0.4,0.5,0.6,0.7,0.8,0.9]\n",
        "score = []\n",
        "for i in alpha:\n",
        "  mb = MultinomialNB(alpha=i)\n",
        "  mb.fit(X_train, y_train)\n",
        "  y_pred_tfid = mb.predict(X_test)\n",
        "  print(\"alpha is: \",i)\n",
        "  print(\"TRAIN DATA accuracy:\", mb.score(X_train,y_train))\n",
        "  print(\"TEST data accuracy: \", mb.score(X_test,y_test))\n",
        "  score.append(mb.score(X_test,y_test))\n",
        "  "
      ],
      "execution_count": null,
      "outputs": [
        {
          "output_type": "stream",
          "text": [
            "alpha is:  0.1\n",
            "TRAIN DATA accuracy: 0.7105765559373807\n",
            "TEST data accuracy:  0.6815678652413346\n",
            "alpha is:  0.2\n",
            "TRAIN DATA accuracy: 0.7095352146898538\n",
            "TEST data accuracy:  0.6818108195659216\n",
            "alpha is:  0.3\n",
            "TRAIN DATA accuracy: 0.7087021416918324\n",
            "TEST data accuracy:  0.6813249109167476\n",
            "alpha is:  0.4\n",
            "TRAIN DATA accuracy: 0.7084938734423271\n",
            "TEST data accuracy:  0.6803530936183998\n",
            "alpha is:  0.5\n",
            "TRAIN DATA accuracy: 0.70731368669513\n",
            "TEST data accuracy:  0.6804340783932621\n",
            "alpha is:  0.6\n",
            "TRAIN DATA accuracy: 0.7067235933215315\n",
            "TEST data accuracy:  0.6789763524457402\n",
            "alpha is:  0.7\n",
            "TRAIN DATA accuracy: 0.7058210975736748\n",
            "TEST data accuracy:  0.6788143828960156\n",
            "alpha is:  0.8\n",
            "TRAIN DATA accuracy: 0.7049880245756535\n",
            "TEST data accuracy:  0.6779235503725299\n",
            "alpha is:  0.9\n",
            "TRAIN DATA accuracy: 0.7034260127043632\n",
            "TEST data accuracy:  0.6778425655976676\n"
          ],
          "name": "stdout"
        }
      ]
    },
    {
      "cell_type": "code",
      "metadata": {
        "colab": {
          "base_uri": "https://localhost:8080/",
          "height": 286
        },
        "id": "b1nSxOEi0n6x",
        "outputId": "410b54f8-50b6-45c8-98f7-5efcd399e257"
      },
      "source": [
        "plt.plot(alpha,score)"
      ],
      "execution_count": null,
      "outputs": [
        {
          "output_type": "execute_result",
          "data": {
            "text/plain": [
              "[<matplotlib.lines.Line2D at 0x7f6373107e90>]"
            ]
          },
          "metadata": {
            "tags": []
          },
          "execution_count": 90
        },
        {
          "output_type": "display_data",
          "data": {
            "image/png": "[encoded data removed]",
            "text/plain": [
              "<Figure size 432x288 with 1 Axes>"
            ]
          },
          "metadata": {
            "tags": [],
            "needs_background": "light"
          }
        }
      ]
    },
    {
      "cell_type": "code",
      "metadata": {
        "id": "fNQFhnc71CvK",
        "colab": {
          "base_uri": "https://localhost:8080/"
        },
        "outputId": "61842c3f-ee80-4b67-8dba-7682fa50eee1"
      },
      "source": [
        "import nltk\n",
        "from nltk.corpus import stopwords\n",
        "from nltk.stem import WordNetLemmatizer\n",
        "nltk.download('stopwords')\n",
        "nltk.download('wordnet')\n",
        "  \n",
        "import re\n",
        "wnl = WordNetLemmatizer()\n",
        "corpus1 = []\n",
        "for i in range(0, len(df_train)):\n",
        "    \n",
        "    review = re.sub(r'http\\S+', ' ', df_train['OriginalTweet'][i])   # remove urls\n",
        "    review = re.sub('[^a-zA-Z]', ' ', review)\n",
        "    review = review.lower()\n",
        "    review = review.split()\n",
        "    \n",
        "    review = [wnl.lemmatize(word) for word in review if not word in stopwords.words('english')]\n",
        "    review = ' '.join(review)\n",
        "    corpus1.append(review)"
      ],
      "execution_count": 165,
      "outputs": [
        {
          "output_type": "stream",
          "text": [
            "[nltk_data] Downloading package stopwords to /root/nltk_data...\n",
            "[nltk_data]   Package stopwords is already up-to-date!\n",
            "[nltk_data] Downloading package wordnet to /root/nltk_data...\n",
            "[nltk_data]   Package wordnet is already up-to-date!\n"
          ],
          "name": "stdout"
        }
      ]
    },
    {
      "cell_type": "code",
      "metadata": {
        "id": "-WVib3PG1y_n"
      },
      "source": [
        "import nltk\n",
        "from nltk.tokenize import RegexpTokenizer\n",
        "from nltk.stem import WordNetLemmatizer,PorterStemmer\n",
        "from nltk.corpus import stopwords\n",
        "import re\n",
        "lemmatizer = WordNetLemmatizer()\n",
        "stemmer = PorterStemmer() \n",
        "\n",
        "def preprocess(sentence):\n",
        "  sentence=str(sentence)\n",
        "  sentence = sentence.lower()\n",
        "  sentence=sentence.replace('{html}',\"\") \n",
        "  cleanr = re.compile('<.*?>')\n",
        "  cleantext = re.sub(cleanr, '', sentence)\n",
        "  rem_url=re.sub(r'http\\S+', '',cleantext)\n",
        "  rem_num = re.sub('[0-9]+', '', rem_url)\n",
        "  tokenizer = RegexpTokenizer(r'\\w+')\n",
        "  tokens = tokenizer.tokenize(rem_num)  \n",
        "  filtered_words = [w for w in tokens if len(w) > 2 if not w in stopwords.words('english')]\n",
        "  stem_words=[stemmer.stem(w) for w in filtered_words]\n",
        "  lemma_words=[lemmatizer.lemmatize(w) for w in stem_words]\n",
        "  return \" \".join(filtered_words)\n",
        "\n",
        "\n",
        "df_train['cleanText']=df_train['OriginalTweet'].map(lambda s:preprocess(s)) "
      ],
      "execution_count": 167,
      "outputs": []
    },
    {
      "cell_type": "code",
      "metadata": {
        "colab": {
          "base_uri": "https://localhost:8080/",
          "height": 204
        },
        "id": "J9ZYMlKnASSk",
        "outputId": "e664fccf-2c3a-4e9e-9e2d-2a0f9b3df1a2"
      },
      "source": [
        "df_train.head()"
      ],
      "execution_count": 168,
      "outputs": [
        {
          "output_type": "execute_result",
          "data": {
            "text/html": [
              "<div>\n",
              "<style scoped>\n",
              "    .dataframe tbody tr th:only-of-type {\n",
              "        vertical-align: middle;\n",
              "    }\n",
              "\n",
              "    .dataframe tbody tr th {\n",
              "        vertical-align: top;\n",
              "    }\n",
              "\n",
              "    .dataframe thead th {\n",
              "        text-align: right;\n",
              "    }\n",
              "</style>\n",
              "<table border=\"1\" class=\"dataframe\">\n",
              "  <thead>\n",
              "    <tr style=\"text-align: right;\">\n",
              "      <th></th>\n",
              "      <th>UserName</th>\n",
              "      <th>ScreenName</th>\n",
              "      <th>Location</th>\n",
              "      <th>TweetAt</th>\n",
              "      <th>OriginalTweet</th>\n",
              "      <th>Sentiment</th>\n",
              "      <th>cleanText</th>\n",
              "    </tr>\n",
              "  </thead>\n",
              "  <tbody>\n",
              "    <tr>\n",
              "      <th>0</th>\n",
              "      <td>3799</td>\n",
              "      <td>48751</td>\n",
              "      <td>London</td>\n",
              "      <td>16-03-2020</td>\n",
              "      <td>@MeNyrbie @Phil_Gahan @Chrisitv https://t.co/i...</td>\n",
              "      <td>Neutral</td>\n",
              "      <td>menyrbie phil_gahan chrisitv</td>\n",
              "    </tr>\n",
              "    <tr>\n",
              "      <th>1</th>\n",
              "      <td>3800</td>\n",
              "      <td>48752</td>\n",
              "      <td>UK</td>\n",
              "      <td>16-03-2020</td>\n",
              "      <td>advice Talk to your neighbours family to excha...</td>\n",
              "      <td>Positive</td>\n",
              "      <td>advice talk neighbours family exchange phone n...</td>\n",
              "    </tr>\n",
              "    <tr>\n",
              "      <th>2</th>\n",
              "      <td>3801</td>\n",
              "      <td>48753</td>\n",
              "      <td>Vagabonds</td>\n",
              "      <td>16-03-2020</td>\n",
              "      <td>Coronavirus Australia: Woolworths to give elde...</td>\n",
              "      <td>Positive</td>\n",
              "      <td>coronavirus australia woolworths give elderly ...</td>\n",
              "    </tr>\n",
              "    <tr>\n",
              "      <th>3</th>\n",
              "      <td>3802</td>\n",
              "      <td>48754</td>\n",
              "      <td>NaN</td>\n",
              "      <td>16-03-2020</td>\n",
              "      <td>My food stock is not the only one which is emp...</td>\n",
              "      <td>Positive</td>\n",
              "      <td>food stock one empty please panic enough food ...</td>\n",
              "    </tr>\n",
              "    <tr>\n",
              "      <th>4</th>\n",
              "      <td>3803</td>\n",
              "      <td>48755</td>\n",
              "      <td>NaN</td>\n",
              "      <td>16-03-2020</td>\n",
              "      <td>Me, ready to go at supermarket during the #COV...</td>\n",
              "      <td>Extremely Negative</td>\n",
              "      <td>ready supermarket covid outbreak paranoid food...</td>\n",
              "    </tr>\n",
              "  </tbody>\n",
              "</table>\n",
              "</div>"
            ],
            "text/plain": [
              "   UserName  ...                                          cleanText\n",
              "0      3799  ...                       menyrbie phil_gahan chrisitv\n",
              "1      3800  ...  advice talk neighbours family exchange phone n...\n",
              "2      3801  ...  coronavirus australia woolworths give elderly ...\n",
              "3      3802  ...  food stock one empty please panic enough food ...\n",
              "4      3803  ...  ready supermarket covid outbreak paranoid food...\n",
              "\n",
              "[5 rows x 7 columns]"
            ]
          },
          "metadata": {
            "tags": []
          },
          "execution_count": 168
        }
      ]
    },
    {
      "cell_type": "code",
      "metadata": {
        "colab": {
          "base_uri": "https://localhost:8080/",
          "height": 52
        },
        "id": "nEtzSApNAXaU",
        "outputId": "c023b727-0de9-4dc1-d973-2ecb957e36f6"
      },
      "source": [
        "df_train['cleanText'][4]"
      ],
      "execution_count": 172,
      "outputs": [
        {
          "output_type": "execute_result",
          "data": {
            "application/vnd.google.colaboratory.intrinsic+json": {
              "type": "string"
            },
            "text/plain": [
              "'ready supermarket covid outbreak paranoid food stock litteraly empty coronavirus serious thing please panic causes shortage coronavirusfrance restezchezvous stayathome confinement'"
            ]
          },
          "metadata": {
            "tags": []
          },
          "execution_count": 172
        }
      ]
    },
    {
      "cell_type": "code",
      "metadata": {
        "colab": {
          "base_uri": "https://localhost:8080/",
          "height": 280
        },
        "id": "cDl893eHg6lB",
        "outputId": "e74d4a6b-330c-4a61-a2cf-c3c370fdbf32"
      },
      "source": [
        "df_new = pd.concat([df_train['OriginalTweet'],df_train['Sentiment']],axis=1)\n",
        "df_new.replace({'Sentiment' : { 'Extremely Negative' :'N', 'Negative' : 'N', 'Neutral' : 'K' ,'Extremely Positive' : 'P', 'Positive' : 'P'}} ,inplace=True )\n",
        "\n",
        "df_new['Sentiment'].value_counts().plot.bar()"
      ],
      "execution_count": 140,
      "outputs": [
        {
          "output_type": "execute_result",
          "data": {
            "text/plain": [
              "<matplotlib.axes._subplots.AxesSubplot at 0x7f0c80ddc310>"
            ]
          },
          "metadata": {
            "tags": []
          },
          "execution_count": 140
        },
        {
          "output_type": "display_data",
          "data": {
            "image/png": "[encoded data removed]",
            "text/plain": [
              "<Figure size 432x288 with 1 Axes>"
            ]
          },
          "metadata": {
            "tags": [],
            "needs_background": "light"
          }
        }
      ]
    },
    {
      "cell_type": "code",
      "metadata": {
        "colab": {
          "base_uri": "https://localhost:8080/"
        },
        "id": "n3wg0styhHd_",
        "outputId": "e5e44673-ae11-4c93-c7ae-a5e2ba575a2f"
      },
      "source": [
        "from sklearn.feature_extraction.text import TfidfVectorizer\n",
        "tf = TfidfVectorizer(ngram_range= (1,4),max_features= 2500)\n",
        "x_new = tf.fit_transform(corpus1).toarray()\n",
        "\n",
        "X_final = pd.DataFrame(x_new, columns= tf.get_feature_names())\n",
        "y= df_new['Sentiment']\n",
        "\n",
        "from sklearn.model_selection import train_test_split\n",
        "X_train, X_test, y_train, y_test = train_test_split(X_final, y, test_size=0.3, random_state=42)\n",
        "\n",
        "from sklearn.naive_bayes import MultinomialNB\n",
        "mb = MultinomialNB()\n",
        "mb.fit(X_train, y_train)\n",
        "\n",
        "y_pred_tfid = mb.predict(X_test)\n",
        "\n",
        "\n",
        "from sklearn.metrics import confusion_matrix\n",
        "print(confusion_matrix(y_pred_tfid,y_test))\n",
        "\n",
        "print(\"TRAIN DATA accuracy:\", mb.score(X_train,y_train))\n",
        "\n",
        "print(\"TEST data accuracy: \", mb.score(X_test,y_test))"
      ],
      "execution_count": 21,
      "outputs": [
        {
          "output_type": "stream",
          "text": [
            "[[ 721  189  175]\n",
            " [ 582 3099  802]\n",
            " [ 989 1289 4502]]\n",
            "TRAIN DATA accuracy: 0.700128432087195\n",
            "TEST data accuracy:  0.673955296404276\n"
          ],
          "name": "stdout"
        }
      ]
    },
    {
      "cell_type": "code",
      "metadata": {
        "colab": {
          "base_uri": "https://localhost:8080/"
        },
        "id": "h9R3QBtQhXJJ",
        "outputId": "394df62f-cb8b-4541-a086-484d4ba34361"
      },
      "source": [
        "alpha = [ 0.1,0.2,0.3,0.4,0.5,0.6,0.7,0.8,0.9,1.0]\n",
        "score1 = []\n",
        "for i in alpha:\n",
        "  mb = MultinomialNB(alpha=i)\n",
        "  mb.fit(X_train, y_train)\n",
        "  y_pred_tfid = mb.predict(X_test)\n",
        "  print(\"alpha is: \",i)\n",
        "  print(\"TRAIN DATA accuracy:\", mb.score(X_train,y_train))\n",
        "  print(\"TEST data accuracy: \", mb.score(X_test,y_test))\n",
        "  score1.append(mb.score(X_test,y_test))"
      ],
      "execution_count": 11,
      "outputs": [
        {
          "output_type": "stream",
          "text": [
            "alpha is:  0.1\n",
            "TRAIN DATA accuracy: 0.7102641535631227\n",
            "TEST data accuracy:  0.6784904437965662\n",
            "alpha is:  0.2\n",
            "TRAIN DATA accuracy: 0.7092575236905134\n",
            "TEST data accuracy:  0.677437641723356\n",
            "alpha is:  0.3\n",
            "TRAIN DATA accuracy: 0.7082161824429866\n",
            "TEST data accuracy:  0.6768707482993197\n",
            "alpha is:  0.4\n",
            "TRAIN DATA accuracy: 0.7070707070707071\n",
            "TEST data accuracy:  0.6770327178490444\n",
            "alpha is:  0.5\n",
            "TRAIN DATA accuracy: 0.7067235933215315\n",
            "TEST data accuracy:  0.6765468091998704\n",
            "alpha is:  0.6\n",
            "TRAIN DATA accuracy: 0.7060293658231802\n",
            "TEST data accuracy:  0.6761418853255587\n",
            "alpha is:  0.7\n",
            "TRAIN DATA accuracy: 0.7047450449512305\n",
            "TEST data accuracy:  0.6749271137026239\n",
            "alpha is:  0.8\n",
            "TRAIN DATA accuracy: 0.7040855288277968\n",
            "TEST data accuracy:  0.6749271137026239\n",
            "alpha is:  0.9\n",
            "TRAIN DATA accuracy: 0.7030094762053525\n",
            "TEST data accuracy:  0.6737933268545514\n",
            "alpha is:  1.0\n",
            "TRAIN DATA accuracy: 0.7025929397063417\n",
            "TEST data accuracy:  0.673469387755102\n"
          ],
          "name": "stdout"
        }
      ]
    },
    {
      "cell_type": "code",
      "metadata": {
        "colab": {
          "base_uri": "https://localhost:8080/",
          "height": 282
        },
        "id": "WflzkIT0hhL8",
        "outputId": "f9352587-a354-42a4-ff87-74ff6bebd36b"
      },
      "source": [
        "plt.plot(alpha,score1)"
      ],
      "execution_count": 12,
      "outputs": [
        {
          "output_type": "execute_result",
          "data": {
            "text/plain": [
              "[<matplotlib.lines.Line2D at 0x7f0d3ae08e50>]"
            ]
          },
          "metadata": {
            "tags": []
          },
          "execution_count": 12
        },
        {
          "output_type": "display_data",
          "data": {
            "image/png": "[encoded data removed]",
            "text/plain": [
              "<Figure size 432x288 with 1 Axes>"
            ]
          },
          "metadata": {
            "tags": [],
            "needs_background": "light"
          }
        }
      ]
    },
    {
      "cell_type": "code",
      "metadata": {
        "colab": {
          "base_uri": "https://localhost:8080/"
        },
        "id": "hCqCyruNhmv_",
        "outputId": "544b998e-3c45-4e86-bba2-c4de06e0063a"
      },
      "source": [
        "len(corpus1)"
      ],
      "execution_count": 18,
      "outputs": [
        {
          "output_type": "execute_result",
          "data": {
            "text/plain": [
              "41157"
            ]
          },
          "metadata": {
            "tags": []
          },
          "execution_count": 18
        }
      ]
    },
    {
      "cell_type": "code",
      "metadata": {
        "id": "cLjAWIVLj-1J"
      },
      "source": [
        "\n",
        "from tensorflow.keras.layers import Embedding\n",
        "from tensorflow.keras.models import Sequential\n",
        "from tensorflow.keras.preprocessing.text import one_hot\n",
        "from tensorflow.keras.preprocessing.sequence import pad_sequences\n",
        "from tensorflow.keras.layers import LSTM\n",
        "from tensorflow.keras.layers import Dense"
      ],
      "execution_count": 22,
      "outputs": []
    },
    {
      "cell_type": "code",
      "metadata": {
        "colab": {
          "base_uri": "https://localhost:8080/"
        },
        "id": "vb58O-1Ekv79",
        "outputId": "faa13bb3-6558-46c8-88ef-0a00f2beb3ae"
      },
      "source": [
        "size_voc = 5000\n",
        "\n",
        "onehot_repr=[one_hot(words,size_voc)for words in corpus1] \n",
        "onehot_repr[0]"
      ],
      "execution_count": 23,
      "outputs": [
        {
          "output_type": "execute_result",
          "data": {
            "text/plain": [
              "[966,\n",
              " 736,\n",
              " 3503,\n",
              " 3001,\n",
              " 3907,\n",
              " 2197,\n",
              " 1783,\n",
              " 2563,\n",
              " 3764,\n",
              " 3907,\n",
              " 2197,\n",
              " 4085,\n",
              " 685,\n",
              " 3907,\n",
              " 2197,\n",
              " 3860]"
            ]
          },
          "metadata": {
            "tags": []
          },
          "execution_count": 23
        }
      ]
    },
    {
      "cell_type": "code",
      "metadata": {
        "colab": {
          "base_uri": "https://localhost:8080/"
        },
        "id": "BYFJoCHbk1NA",
        "outputId": "1dbcbb79-4a2a-48bc-be4f-55eb2309275e"
      },
      "source": [
        "\n",
        "sent_length=25\n",
        "embedded_docs=pad_sequences(onehot_repr,padding='pre',maxlen=sent_length)\n",
        "print(embedded_docs)"
      ],
      "execution_count": 148,
      "outputs": [
        {
          "output_type": "stream",
          "text": [
            "[[   0    0    0 ... 3907 2197 3860]\n",
            " [3949 2259 4163 ... 3391 1344  665]\n",
            " [   0    0    0 ... 1633 4395  381]\n",
            " ...\n",
            " [   0    0    0 ... 3141 2589 2009]\n",
            " [   0    0    0 ... 3582  698 3582]\n",
            " [ 986 2822 2982 ... 2827  698  208]]\n"
          ],
          "name": "stdout"
        }
      ]
    },
    {
      "cell_type": "code",
      "metadata": {
        "colab": {
          "base_uri": "https://localhost:8080/"
        },
        "id": "5I2Ud7wHk8Aw",
        "outputId": "a6c06aaf-7348-4832-caac-ad7511e95889"
      },
      "source": [
        "embedded_docs[1]"
      ],
      "execution_count": 149,
      "outputs": [
        {
          "output_type": "execute_result",
          "data": {
            "text/plain": [
              "array([3949, 2259, 4163,  765, 1732, 4422,  722, 4104,  765, 1732, 3949,\n",
              "       2704, 3744, 3333, 2753, 4703, 4145, 1249, 4172, 1722, 1103, 1122,\n",
              "       3391, 1344,  665], dtype=int32)"
            ]
          },
          "metadata": {
            "tags": []
          },
          "execution_count": 149
        }
      ]
    },
    {
      "cell_type": "code",
      "metadata": {
        "colab": {
          "base_uri": "https://localhost:8080/"
        },
        "id": "wwFQR911lFeU",
        "outputId": "8782edaf-2e06-4574-d871-564fbc62e25f"
      },
      "source": [
        "from tensorflow.keras.layers import Dropout\n",
        "from keras.layers import LSTM,Bidirectional\n",
        "## Creating model\n",
        "embedding_vector_features=100\n",
        "model=Sequential()\n",
        "model.add(Embedding(size_voc,embedding_vector_features,input_length=sent_length))\n",
        "#model.add(Dropout(0.3))\n",
        "model.add(Bidirectional(LSTM(100)))\n",
        "model.add(Dropout(0.3))\n",
        "\n",
        "model.add(Dense(1,activation='softmax'))\n",
        "model.compile(loss='SparseCategoricalCrossentropy',optimizer='adam',metrics=['accuracy'])\n",
        "print(model.summary())"
      ],
      "execution_count": 151,
      "outputs": [
        {
          "output_type": "stream",
          "text": [
            "Model: \"sequential_25\"\n",
            "_________________________________________________________________\n",
            "Layer (type)                 Output Shape              Param #   \n",
            "=================================================================\n",
            "embedding_25 (Embedding)     (None, 25, 100)           500000    \n",
            "_________________________________________________________________\n",
            "module_wrapper_5 (ModuleWrap (None, 200)               160800    \n",
            "_________________________________________________________________\n",
            "dropout_16 (Dropout)         (None, 200)               0         \n",
            "_________________________________________________________________\n",
            "dense_17 (Dense)             (None, 1)                 201       \n",
            "=================================================================\n",
            "Total params: 661,001\n",
            "Trainable params: 661,001\n",
            "Non-trainable params: 0\n",
            "_________________________________________________________________\n",
            "None\n"
          ],
          "name": "stdout"
        }
      ]
    },
    {
      "cell_type": "code",
      "metadata": {
        "colab": {
          "base_uri": "https://localhost:8080/"
        },
        "id": "7KMFHcP9l4_P",
        "outputId": "5cda6930-005a-4135-f852-60c4ff070cbe"
      },
      "source": [
        "import numpy as np\n",
        "X_final_lstm = np.array(embedded_docs)\n",
        "print(X_final_lstm.shape)"
      ],
      "execution_count": 152,
      "outputs": [
        {
          "output_type": "stream",
          "text": [
            "(41157, 25)\n"
          ],
          "name": "stdout"
        }
      ]
    },
    {
      "cell_type": "code",
      "metadata": {
        "id": "XObWO2o4mF0G"
      },
      "source": [
        "\n",
        "y = df_new['Sentiment']\n",
        "from sklearn.model_selection import train_test_split\n",
        "X_train, X_test, y_train, y_test = train_test_split(X_final_lstm, y, test_size=0.33, random_state=42)"
      ],
      "execution_count": 153,
      "outputs": []
    },
    {
      "cell_type": "code",
      "metadata": {
        "colab": {
          "base_uri": "https://localhost:8080/"
        },
        "id": "Y3i0XoOlmSZD",
        "outputId": "645e1a52-fd1b-44a0-f9b6-71cf593b8aad"
      },
      "source": [
        "\n",
        "model.fit(X_train,y_train,epochs=5,validation_data=(X_test,y_test),batch_size=50)"
      ],
      "execution_count": 154,
      "outputs": [
        {
          "output_type": "stream",
          "text": [
            "Epoch 1/5\n",
            "552/552 [==============================] - 23s 36ms/step - loss: nan - accuracy: 0.3751 - val_loss: nan - val_accuracy: 0.3720\n",
            "Epoch 2/5\n",
            "552/552 [==============================] - 19s 34ms/step - loss: nan - accuracy: 0.3752 - val_loss: nan - val_accuracy: 0.3720\n",
            "Epoch 3/5\n",
            "552/552 [==============================] - 19s 34ms/step - loss: nan - accuracy: 0.3752 - val_loss: nan - val_accuracy: 0.3720\n",
            "Epoch 4/5\n",
            "552/552 [==============================] - 19s 34ms/step - loss: nan - accuracy: 0.3752 - val_loss: nan - val_accuracy: 0.3720\n",
            "Epoch 5/5\n",
            "552/552 [==============================] - 19s 34ms/step - loss: nan - accuracy: 0.3752 - val_loss: nan - val_accuracy: 0.3720\n"
          ],
          "name": "stdout"
        },
        {
          "output_type": "execute_result",
          "data": {
            "text/plain": [
              "<tensorflow.python.keras.callbacks.History at 0x7f0c7ed0e490>"
            ]
          },
          "metadata": {
            "tags": []
          },
          "execution_count": 154
        }
      ]
    },
    {
      "cell_type": "code",
      "metadata": {
        "colab": {
          "base_uri": "https://localhost:8080/"
        },
        "id": "94NLFD7ImX_F",
        "outputId": "61fb5c3a-a950-489e-84d2-882d2d718cd8"
      },
      "source": [
        "################### test data prediction #####################################\n",
        "y_pred=model.predict_classes(X_test)\n",
        "from sklearn.metrics import confusion_matrix\n",
        "print(\"confusion-matrix:\\n\" ,confusion_matrix(y_test,y_pred))\n",
        "from sklearn.metrics import accuracy_score\n",
        "print(\"accuracy_score:\", accuracy_score(y_test,y_pred))"
      ],
      "execution_count": 131,
      "outputs": [
        {
          "output_type": "stream",
          "text": [
            "/usr/local/lib/python3.7/dist-packages/tensorflow/python/keras/engine/sequential.py:455: UserWarning: `model.predict_classes()` is deprecated and will be removed after 2021-01-01. Please use instead:* `np.argmax(model.predict(x), axis=-1)`,   if your model does multi-class classification   (e.g. if it uses a `softmax` last-layer activation).* `(model.predict(x) > 0.5).astype(\"int32\")`,   if your model does binary classification   (e.g. if it uses a `sigmoid` last-layer activation).\n",
            "  warnings.warn('`model.predict_classes()` is deprecated and '\n"
          ],
          "name": "stderr"
        },
        {
          "output_type": "stream",
          "text": [
            "confusion-matrix:\n",
            " [[   0 2518    0]\n",
            " [   0 5053    0]\n",
            " [   0 6011    0]]\n",
            "accuracy_score: 0.37203651892210277\n"
          ],
          "name": "stdout"
        }
      ]
    },
    {
      "cell_type": "code",
      "metadata": {
        "id": "qf_WnVswpWRC"
      },
      "source": [
        "df_new.replace({'Sentiment' : { 'K':2 ,'P':1 ,'N':0}} ,inplace=True )"
      ],
      "execution_count": 141,
      "outputs": []
    },
    {
      "cell_type": "code",
      "metadata": {
        "colab": {
          "base_uri": "https://localhost:8080/",
          "height": 204
        },
        "id": "srOqqDNUpyXN",
        "outputId": "32beab52-229c-4db9-aac4-c2c03051e307"
      },
      "source": [
        "df_new.head()"
      ],
      "execution_count": 102,
      "outputs": [
        {
          "output_type": "execute_result",
          "data": {
            "text/html": [
              "<div>\n",
              "<style scoped>\n",
              "    .dataframe tbody tr th:only-of-type {\n",
              "        vertical-align: middle;\n",
              "    }\n",
              "\n",
              "    .dataframe tbody tr th {\n",
              "        vertical-align: top;\n",
              "    }\n",
              "\n",
              "    .dataframe thead th {\n",
              "        text-align: right;\n",
              "    }\n",
              "</style>\n",
              "<table border=\"1\" class=\"dataframe\">\n",
              "  <thead>\n",
              "    <tr style=\"text-align: right;\">\n",
              "      <th></th>\n",
              "      <th>OriginalTweet</th>\n",
              "      <th>Sentiment</th>\n",
              "    </tr>\n",
              "  </thead>\n",
              "  <tbody>\n",
              "    <tr>\n",
              "      <th>0</th>\n",
              "      <td>@MeNyrbie @Phil_Gahan @Chrisitv https://t.co/i...</td>\n",
              "      <td>K</td>\n",
              "    </tr>\n",
              "    <tr>\n",
              "      <th>1</th>\n",
              "      <td>advice Talk to your neighbours family to excha...</td>\n",
              "      <td>P</td>\n",
              "    </tr>\n",
              "    <tr>\n",
              "      <th>2</th>\n",
              "      <td>Coronavirus Australia: Woolworths to give elde...</td>\n",
              "      <td>P</td>\n",
              "    </tr>\n",
              "    <tr>\n",
              "      <th>3</th>\n",
              "      <td>My food stock is not the only one which is emp...</td>\n",
              "      <td>P</td>\n",
              "    </tr>\n",
              "    <tr>\n",
              "      <th>4</th>\n",
              "      <td>Me, ready to go at supermarket during the #COV...</td>\n",
              "      <td>N</td>\n",
              "    </tr>\n",
              "  </tbody>\n",
              "</table>\n",
              "</div>"
            ],
            "text/plain": [
              "                                       OriginalTweet Sentiment\n",
              "0  @MeNyrbie @Phil_Gahan @Chrisitv https://t.co/i...         K\n",
              "1  advice Talk to your neighbours family to excha...         P\n",
              "2  Coronavirus Australia: Woolworths to give elde...         P\n",
              "3  My food stock is not the only one which is emp...         P\n",
              "4  Me, ready to go at supermarket during the #COV...         N"
            ]
          },
          "metadata": {
            "tags": []
          },
          "execution_count": 102
        }
      ]
    },
    {
      "cell_type": "code",
      "metadata": {
        "colab": {
          "base_uri": "https://localhost:8080/",
          "height": 204
        },
        "id": "UmTLTQK6p0nh",
        "outputId": "303c353e-e23f-4ec7-8644-aaae7dc8492e"
      },
      "source": [
        "df_new.head()"
      ],
      "execution_count": 142,
      "outputs": [
        {
          "output_type": "execute_result",
          "data": {
            "text/html": [
              "<div>\n",
              "<style scoped>\n",
              "    .dataframe tbody tr th:only-of-type {\n",
              "        vertical-align: middle;\n",
              "    }\n",
              "\n",
              "    .dataframe tbody tr th {\n",
              "        vertical-align: top;\n",
              "    }\n",
              "\n",
              "    .dataframe thead th {\n",
              "        text-align: right;\n",
              "    }\n",
              "</style>\n",
              "<table border=\"1\" class=\"dataframe\">\n",
              "  <thead>\n",
              "    <tr style=\"text-align: right;\">\n",
              "      <th></th>\n",
              "      <th>OriginalTweet</th>\n",
              "      <th>Sentiment</th>\n",
              "    </tr>\n",
              "  </thead>\n",
              "  <tbody>\n",
              "    <tr>\n",
              "      <th>0</th>\n",
              "      <td>@MeNyrbie @Phil_Gahan @Chrisitv https://t.co/i...</td>\n",
              "      <td>2</td>\n",
              "    </tr>\n",
              "    <tr>\n",
              "      <th>1</th>\n",
              "      <td>advice Talk to your neighbours family to excha...</td>\n",
              "      <td>1</td>\n",
              "    </tr>\n",
              "    <tr>\n",
              "      <th>2</th>\n",
              "      <td>Coronavirus Australia: Woolworths to give elde...</td>\n",
              "      <td>1</td>\n",
              "    </tr>\n",
              "    <tr>\n",
              "      <th>3</th>\n",
              "      <td>My food stock is not the only one which is emp...</td>\n",
              "      <td>1</td>\n",
              "    </tr>\n",
              "    <tr>\n",
              "      <th>4</th>\n",
              "      <td>Me, ready to go at supermarket during the #COV...</td>\n",
              "      <td>0</td>\n",
              "    </tr>\n",
              "  </tbody>\n",
              "</table>\n",
              "</div>"
            ],
            "text/plain": [
              "                                       OriginalTweet  Sentiment\n",
              "0  @MeNyrbie @Phil_Gahan @Chrisitv https://t.co/i...          2\n",
              "1  advice Talk to your neighbours family to excha...          1\n",
              "2  Coronavirus Australia: Woolworths to give elde...          1\n",
              "3  My food stock is not the only one which is emp...          1\n",
              "4  Me, ready to go at supermarket during the #COV...          0"
            ]
          },
          "metadata": {
            "tags": []
          },
          "execution_count": 142
        }
      ]
    },
    {
      "cell_type": "code",
      "metadata": {
        "colab": {
          "base_uri": "https://localhost:8080/"
        },
        "id": "BcyfipoCrKx1",
        "outputId": "e95fe5ca-8eb5-497a-e50d-df41516042b9"
      },
      "source": [
        " from tensorflow.keras.layers import GRU,Bidirectional,GlobalMaxPool1D\n",
        "embedding_vector_features=50\n",
        "model1=Sequential()\n",
        "model1.add(Embedding(size_voc,embedding_vector_features,input_length=sent_length))\n",
        "model1.add(Bidirectional(GRU(256)))\n",
        "\n",
        "model1.add(Dropout(0.4))\n",
        "model1.add(Dense(1,activation='softmax'))\n",
        "model1.compile(loss='SparseCategoricalCrossentropy',optimizer='adam',metrics=['accuracy'])\n",
        "print(model1.summary())"
      ],
      "execution_count": 136,
      "outputs": [
        {
          "output_type": "stream",
          "text": [
            "Model: \"sequential_22\"\n",
            "_________________________________________________________________\n",
            "Layer (type)                 Output Shape              Param #   \n",
            "=================================================================\n",
            "embedding_22 (Embedding)     (None, 30, 50)            250000    \n",
            "_________________________________________________________________\n",
            "bidirectional_2 (Bidirection (None, 512)               473088    \n",
            "_________________________________________________________________\n",
            "dropout_11 (Dropout)         (None, 512)               0         \n",
            "_________________________________________________________________\n",
            "dense_14 (Dense)             (None, 1)                 513       \n",
            "=================================================================\n",
            "Total params: 723,601\n",
            "Trainable params: 723,601\n",
            "Non-trainable params: 0\n",
            "_________________________________________________________________\n",
            "None\n"
          ],
          "name": "stdout"
        }
      ]
    },
    {
      "cell_type": "code",
      "metadata": {
        "colab": {
          "base_uri": "https://localhost:8080/"
        },
        "id": "V5iDeJr7wdhe",
        "outputId": "7ce04eaa-6aa6-47ae-9129-b16fad75349c"
      },
      "source": [
        "\n",
        "model1.fit(X_train,y_train,epochs=5,validation_data=(X_test,y_test),batch_size=64)"
      ],
      "execution_count": 137,
      "outputs": [
        {
          "output_type": "stream",
          "text": [
            "Epoch 1/5\n",
            "431/431 [==============================] - 22s 43ms/step - loss: nan - accuracy: 0.3756 - val_loss: nan - val_accuracy: 0.3720\n",
            "Epoch 2/5\n",
            "431/431 [==============================] - 18s 41ms/step - loss: nan - accuracy: 0.3752 - val_loss: nan - val_accuracy: 0.3720\n",
            "Epoch 3/5\n",
            "431/431 [==============================] - 18s 41ms/step - loss: nan - accuracy: 0.3752 - val_loss: nan - val_accuracy: 0.3720\n",
            "Epoch 4/5\n",
            "431/431 [==============================] - 18s 42ms/step - loss: nan - accuracy: 0.3752 - val_loss: nan - val_accuracy: 0.3720\n",
            "Epoch 5/5\n",
            "431/431 [==============================] - 18s 41ms/step - loss: nan - accuracy: 0.3752 - val_loss: nan - val_accuracy: 0.3720\n"
          ],
          "name": "stdout"
        },
        {
          "output_type": "execute_result",
          "data": {
            "text/plain": [
              "<tensorflow.python.keras.callbacks.History at 0x7f0d141e0fd0>"
            ]
          },
          "metadata": {
            "tags": []
          },
          "execution_count": 137
        }
      ]
    },
    {
      "cell_type": "code",
      "metadata": {
        "colab": {
          "base_uri": "https://localhost:8080/"
        },
        "id": "ryWri0O-wx0Q",
        "outputId": "657daee1-8fa2-4e98-e6ee-d19afd2c941f"
      },
      "source": [
        "y_train"
      ],
      "execution_count": 138,
      "outputs": [
        {
          "output_type": "execute_result",
          "data": {
            "text/plain": [
              "21430    0\n",
              "19794    1\n",
              "8902     0\n",
              "7042     0\n",
              "7627     1\n",
              "        ..\n",
              "6265     0\n",
              "11284    0\n",
              "38158    0\n",
              "860     -1\n",
              "15795    0\n",
              "Name: Sentiment, Length: 27575, dtype: int64"
            ]
          },
          "metadata": {
            "tags": []
          },
          "execution_count": 138
        }
      ]
    },
    {
      "cell_type": "code",
      "metadata": {
        "id": "VEjxSeaDxUji"
      },
      "source": [
        "df_final = pd.concat([df_train['cleanText'],df_train['Sentiment']],axis=1)"
      ],
      "execution_count": 173,
      "outputs": []
    },
    {
      "cell_type": "code",
      "metadata": {
        "colab": {
          "base_uri": "https://localhost:8080/",
          "height": 204
        },
        "id": "BGZ1EdGXA2Cy",
        "outputId": "a0a62361-57f0-41e7-ba6c-06f43da36a95"
      },
      "source": [
        "df_final.head()"
      ],
      "execution_count": 174,
      "outputs": [
        {
          "output_type": "execute_result",
          "data": {
            "text/html": [
              "<div>\n",
              "<style scoped>\n",
              "    .dataframe tbody tr th:only-of-type {\n",
              "        vertical-align: middle;\n",
              "    }\n",
              "\n",
              "    .dataframe tbody tr th {\n",
              "        vertical-align: top;\n",
              "    }\n",
              "\n",
              "    .dataframe thead th {\n",
              "        text-align: right;\n",
              "    }\n",
              "</style>\n",
              "<table border=\"1\" class=\"dataframe\">\n",
              "  <thead>\n",
              "    <tr style=\"text-align: right;\">\n",
              "      <th></th>\n",
              "      <th>cleanText</th>\n",
              "      <th>Sentiment</th>\n",
              "    </tr>\n",
              "  </thead>\n",
              "  <tbody>\n",
              "    <tr>\n",
              "      <th>0</th>\n",
              "      <td>menyrbie phil_gahan chrisitv</td>\n",
              "      <td>Neutral</td>\n",
              "    </tr>\n",
              "    <tr>\n",
              "      <th>1</th>\n",
              "      <td>advice talk neighbours family exchange phone n...</td>\n",
              "      <td>Positive</td>\n",
              "    </tr>\n",
              "    <tr>\n",
              "      <th>2</th>\n",
              "      <td>coronavirus australia woolworths give elderly ...</td>\n",
              "      <td>Positive</td>\n",
              "    </tr>\n",
              "    <tr>\n",
              "      <th>3</th>\n",
              "      <td>food stock one empty please panic enough food ...</td>\n",
              "      <td>Positive</td>\n",
              "    </tr>\n",
              "    <tr>\n",
              "      <th>4</th>\n",
              "      <td>ready supermarket covid outbreak paranoid food...</td>\n",
              "      <td>Extremely Negative</td>\n",
              "    </tr>\n",
              "  </tbody>\n",
              "</table>\n",
              "</div>"
            ],
            "text/plain": [
              "                                           cleanText           Sentiment\n",
              "0                       menyrbie phil_gahan chrisitv             Neutral\n",
              "1  advice talk neighbours family exchange phone n...            Positive\n",
              "2  coronavirus australia woolworths give elderly ...            Positive\n",
              "3  food stock one empty please panic enough food ...            Positive\n",
              "4  ready supermarket covid outbreak paranoid food...  Extremely Negative"
            ]
          },
          "metadata": {
            "tags": []
          },
          "execution_count": 174
        }
      ]
    },
    {
      "cell_type": "code",
      "metadata": {
        "id": "GvUS7LqJA3pR"
      },
      "source": [
        "df_final.replace({'Sentiment' :{ 'Extremely Negative' :0, 'Negative' : 0, 'Neutral' : 1 ,'Extremely Positive' : 2, 'Positive' : 2}} ,inplace=True )"
      ],
      "execution_count": 177,
      "outputs": []
    },
    {
      "cell_type": "code",
      "metadata": {
        "colab": {
          "base_uri": "https://localhost:8080/",
          "height": 204
        },
        "id": "zfx7WGIkBPG7",
        "outputId": "68d4b347-a761-4e44-8030-1ed50365e0e1"
      },
      "source": [
        "df_final.head()"
      ],
      "execution_count": 178,
      "outputs": [
        {
          "output_type": "execute_result",
          "data": {
            "text/html": [
              "<div>\n",
              "<style scoped>\n",
              "    .dataframe tbody tr th:only-of-type {\n",
              "        vertical-align: middle;\n",
              "    }\n",
              "\n",
              "    .dataframe tbody tr th {\n",
              "        vertical-align: top;\n",
              "    }\n",
              "\n",
              "    .dataframe thead th {\n",
              "        text-align: right;\n",
              "    }\n",
              "</style>\n",
              "<table border=\"1\" class=\"dataframe\">\n",
              "  <thead>\n",
              "    <tr style=\"text-align: right;\">\n",
              "      <th></th>\n",
              "      <th>cleanText</th>\n",
              "      <th>Sentiment</th>\n",
              "    </tr>\n",
              "  </thead>\n",
              "  <tbody>\n",
              "    <tr>\n",
              "      <th>0</th>\n",
              "      <td>menyrbie phil_gahan chrisitv</td>\n",
              "      <td>1</td>\n",
              "    </tr>\n",
              "    <tr>\n",
              "      <th>1</th>\n",
              "      <td>advice talk neighbours family exchange phone n...</td>\n",
              "      <td>2</td>\n",
              "    </tr>\n",
              "    <tr>\n",
              "      <th>2</th>\n",
              "      <td>coronavirus australia woolworths give elderly ...</td>\n",
              "      <td>2</td>\n",
              "    </tr>\n",
              "    <tr>\n",
              "      <th>3</th>\n",
              "      <td>food stock one empty please panic enough food ...</td>\n",
              "      <td>2</td>\n",
              "    </tr>\n",
              "    <tr>\n",
              "      <th>4</th>\n",
              "      <td>ready supermarket covid outbreak paranoid food...</td>\n",
              "      <td>0</td>\n",
              "    </tr>\n",
              "  </tbody>\n",
              "</table>\n",
              "</div>"
            ],
            "text/plain": [
              "                                           cleanText  Sentiment\n",
              "0                       menyrbie phil_gahan chrisitv          1\n",
              "1  advice talk neighbours family exchange phone n...          2\n",
              "2  coronavirus australia woolworths give elderly ...          2\n",
              "3  food stock one empty please panic enough food ...          2\n",
              "4  ready supermarket covid outbreak paranoid food...          0"
            ]
          },
          "metadata": {
            "tags": []
          },
          "execution_count": 178
        }
      ]
    },
    {
      "cell_type": "code",
      "metadata": {
        "colab": {
          "base_uri": "https://localhost:8080/"
        },
        "id": "E7srmL5VBQae",
        "outputId": "12095ece-c1a8-4c74-a69b-f72fb61f9dc0"
      },
      "source": [
        "from sklearn.feature_extraction.text import TfidfVectorizer\n",
        "tf = TfidfVectorizer(ngram_range= (1,4),max_features= 2500)\n",
        "x_new = tf.fit_transform(df_final['cleanText'])\n",
        "\n",
        "\n",
        "y= df_final['Sentiment']\n",
        "\n",
        "from sklearn.model_selection import train_test_split\n",
        "X_train, X_test, y_train, y_test = train_test_split(x_new, y, test_size=0.3, random_state=42)\n",
        "\n",
        "from sklearn.naive_bayes import MultinomialNB\n",
        "mb = MultinomialNB()\n",
        "mb.fit(X_train, y_train)\n",
        "\n",
        "y_pred_tfid = mb.predict(X_test)\n",
        "\n",
        "\n",
        "from sklearn.metrics import confusion_matrix\n",
        "print(confusion_matrix(y_pred_tfid,y_test))\n",
        "\n",
        "print(\"TRAIN DATA accuracy:\", mb.score(X_train,y_train))\n",
        "\n",
        "print(\"TEST data accuracy: \", mb.score(X_test,y_test))"
      ],
      "execution_count": 180,
      "outputs": [
        {
          "output_type": "stream",
          "text": [
            "[[3119  626  827]\n",
            " [ 153  611  139]\n",
            " [1305 1055 4513]]\n",
            "TRAIN DATA accuracy: 0.6975250789683779\n",
            "TEST data accuracy:  0.6675574991901523\n"
          ],
          "name": "stdout"
        }
      ]
    },
    {
      "cell_type": "code",
      "metadata": {
        "colab": {
          "base_uri": "https://localhost:8080/"
        },
        "id": "Hm5mVqHsB8q8",
        "outputId": "5b00ba6a-a977-43e4-8080-f8845d70a9a3"
      },
      "source": [
        "alpha = [ 0.1,0.2,0.3,0.4,0.5,0.6,0.7,0.8,0.9,1.0]\n",
        "score1 = []\n",
        "for i in alpha:\n",
        "  mb = MultinomialNB(alpha=i)\n",
        "  mb.fit(X_train, y_train)\n",
        "  y_pred_tfid = mb.predict(X_test)\n",
        "  print(\"alpha is: \",i)\n",
        "  print(\"TRAIN DATA accuracy:\", mb.score(X_train,y_train))\n",
        "  print(\"TEST data accuracy: \", mb.score(X_test,y_test))\n",
        "  score1.append(mb.score(X_test,y_test))"
      ],
      "execution_count": 181,
      "outputs": [
        {
          "output_type": "stream",
          "text": [
            "alpha is:  0.1\n",
            "TRAIN DATA accuracy: 0.7051268700753237\n",
            "TEST data accuracy:  0.6716877227081308\n",
            "alpha is:  0.2\n",
            "TRAIN DATA accuracy: 0.7042590857023847\n",
            "TEST data accuracy:  0.670715905409783\n",
            "alpha is:  0.3\n",
            "TRAIN DATA accuracy: 0.703287167204693\n",
            "TEST data accuracy:  0.6708778749595076\n",
            "alpha is:  0.4\n",
            "TRAIN DATA accuracy: 0.7023499600819189\n",
            "TEST data accuracy:  0.6699060576611597\n",
            "alpha is:  0.5\n",
            "TRAIN DATA accuracy: 0.7013433302093096\n",
            "TEST data accuracy:  0.6694201490119858\n",
            "alpha is:  0.6\n",
            "TRAIN DATA accuracy: 0.7001631434621125\n",
            "TEST data accuracy:  0.6682863621639132\n",
            "alpha is:  0.7\n",
            "TRAIN DATA accuracy: 0.6995036273386789\n",
            "TEST data accuracy:  0.6682863621639132\n",
            "alpha is:  0.8\n",
            "TRAIN DATA accuracy: 0.6990870908396681\n",
            "TEST data accuracy:  0.6678004535147393\n",
            "alpha is:  0.9\n",
            "TRAIN DATA accuracy: 0.6983234405914819\n",
            "TEST data accuracy:  0.6677194687398769\n",
            "alpha is:  1.0\n",
            "TRAIN DATA accuracy: 0.6975250789683779\n",
            "TEST data accuracy:  0.6675574991901523\n"
          ],
          "name": "stdout"
        }
      ]
    },
    {
      "cell_type": "code",
      "metadata": {
        "id": "zZunt6Z_CIqJ"
      },
      "source": [
        ""
      ],
      "execution_count": null,
      "outputs": []
    }
  ]
}